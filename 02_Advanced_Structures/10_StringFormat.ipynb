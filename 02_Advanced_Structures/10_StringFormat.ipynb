{
 "cells": [
  {
   "cell_type": "code",
   "execution_count": 3,
   "id": "d342859b",
   "metadata": {},
   "outputs": [
    {
     "name": "stdout",
     "output_type": "stream",
     "text": [
      "Olá, Andrei \n",
      "Andrei Andrei Andrei Andrei Andrei \n"
     ]
    }
   ],
   "source": [
    "cumprimento = \"Olá, \"\n",
    "nome = \"Andrei \"\n",
    "print(cumprimento + nome)\n",
    "print(nome *5)"
   ]
  },
  {
   "cell_type": "code",
   "execution_count": 14,
   "id": "7daeb47f",
   "metadata": {},
   "outputs": [
    {
     "name": "stdout",
     "output_type": "stream",
     "text": [
      "Luis tem 26 anos e 2 filhos\n",
      "Luis tem 26 anos e 2 filhos\n",
      "Luis tem 26 anos e 2 filhos\n"
     ]
    }
   ],
   "source": [
    "nome = \"Luis\"\n",
    "idade = 26\n",
    "n_filhos = 2\n",
    "print(nome + ' tem ' + str(idade) + ' anos e ' + str(n_filhos) + ' filhos')\n",
    "\n",
    "#Fazendo a mesma coisa com o método format\n",
    "print(\"{} tem {} anos e {} filhos\".format(nome,idade,n_filhos))\n",
    "\n",
    "#Format Shortcut\n",
    "print(f'{nome} tem {idade} anos e {n_filhos} filhos')"
   ]
  },
  {
   "cell_type": "code",
   "execution_count": 12,
   "id": "3487cbcd",
   "metadata": {},
   "outputs": [
    {
     "name": "stdout",
     "output_type": "stream",
     "text": [
      "O preço da gasolina hoje subiu e está em R$ 3.48\n"
     ]
    }
   ],
   "source": [
    "preco_gasolina = 3.476\n",
    "print('O preço da gasolina hoje subiu e está em R$ {:.2f}'.format(preco_gasolina))"
   ]
  },
  {
   "cell_type": "code",
   "execution_count": null,
   "id": "9941def9",
   "metadata": {},
   "outputs": [],
   "source": []
  }
 ],
 "metadata": {
  "kernelspec": {
   "display_name": "Python 3 (ipykernel)",
   "language": "python",
   "name": "python3"
  },
  "language_info": {
   "codemirror_mode": {
    "name": "ipython",
    "version": 3
   },
   "file_extension": ".py",
   "mimetype": "text/x-python",
   "name": "python",
   "nbconvert_exporter": "python",
   "pygments_lexer": "ipython3",
   "version": "3.9.12"
  }
 },
 "nbformat": 4,
 "nbformat_minor": 5
}
