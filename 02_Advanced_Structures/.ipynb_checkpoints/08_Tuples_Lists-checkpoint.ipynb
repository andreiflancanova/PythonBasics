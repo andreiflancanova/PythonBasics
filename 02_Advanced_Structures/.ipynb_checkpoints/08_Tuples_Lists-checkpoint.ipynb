{
 "cells": [
  {
   "cell_type": "code",
   "execution_count": 3,
   "id": "0ebe4543",
   "metadata": {},
   "outputs": [
    {
     "name": "stdout",
     "output_type": "stream",
     "text": [
      "['Brasil', 'Argentina', 'China', 'Canadá', 'Japão']\n"
     ]
    }
   ],
   "source": [
    "#Uma List é uma coleção ou sequência ordenada de dados.\n",
    "#A ordenação é feita através da indexação de base 0.\n",
    "\n",
    "nomes_paises = [\"Brasil\",\"Argentina\",\"China\", \"Canadá\", \"Japão\"]\n",
    "print(nomes_paises)"
   ]
  },
  {
   "cell_type": "code",
   "execution_count": 4,
   "id": "742170f6",
   "metadata": {},
   "outputs": [
    {
     "name": "stdout",
     "output_type": "stream",
     "text": [
      "Tamanho da lista:  5\n"
     ]
    }
   ],
   "source": [
    "print(\"Tamanho da lista: \", len(nomes_paises))"
   ]
  },
  {
   "cell_type": "code",
   "execution_count": 7,
   "id": "0f72ad78",
   "metadata": {},
   "outputs": [
    {
     "name": "stdout",
     "output_type": "stream",
     "text": [
      "País:  Japão\n"
     ]
    }
   ],
   "source": [
    "print(\"País: \",nomes_paises[4])"
   ]
  },
  {
   "cell_type": "code",
   "execution_count": 8,
   "id": "f392b1e7",
   "metadata": {},
   "outputs": [
    {
     "name": "stdout",
     "output_type": "stream",
     "text": [
      "País:  Japão\n"
     ]
    }
   ],
   "source": [
    "print(\"País: \",nomes_paises[-1])"
   ]
  },
  {
   "cell_type": "code",
   "execution_count": 12,
   "id": "fa2a4313",
   "metadata": {},
   "outputs": [
    {
     "name": "stdout",
     "output_type": "stream",
     "text": [
      "País:  Colômbia\n",
      "['Brasil', 'Argentina', 'China', 'Canadá', 'Colômbia']\n"
     ]
    }
   ],
   "source": [
    "nomes_paises[4] = \"Colômbia\"\n",
    "print(\"País: \",nomes_paises[4])\n",
    "print(nomes_paises)"
   ]
  },
  {
   "cell_type": "code",
   "execution_count": 14,
   "id": "320b2b05",
   "metadata": {},
   "outputs": [
    {
     "name": "stdout",
     "output_type": "stream",
     "text": [
      "['Argentina', 'China']\n",
      "['China', 'Canadá', 'Colômbia']\n",
      "['Brasil', 'Argentina']\n",
      "['Brasil', 'Argentina', 'China', 'Canadá', 'Colômbia']\n",
      "['Brasil', 'China', 'Colômbia']\n",
      "['Colômbia', 'Canadá', 'China', 'Argentina', 'Brasil']\n",
      "True\n",
      "False\n"
     ]
    }
   ],
   "source": [
    "print(nomes_paises[1:3])\n",
    "#Este slicing inclui os elementos de índice 1 e 2. Fechado a esquerda e aberto a direita.\n",
    "\n",
    "print(nomes_paises[2:])\n",
    "#Se omito o índice final, estou indicando que irei até o final da lista\n",
    "\n",
    "print(nomes_paises[:2])\n",
    "#Se omito o índice inicial, estou indicando que irei até do primeiro até o índice 2 sem incluí-lo.\n",
    "\n",
    "print(nomes_paises[:])\n",
    "#Lista completa\n",
    "\n",
    "print(nomes_paises[::2])\n",
    "#Passar o atributo de step sendo igual a 2.\n",
    "\n",
    "print(nomes_paises[::-1])\n",
    "#Inverter a lista\n",
    "\n",
    "print(\"Brasil\" in nomes_paises)\n",
    "#Retorna um booleano sobre a presença do item indicado na referida list.\n",
    "\n",
    "print(\"Canadá\" not in nomes_paises)\n",
    "#Retorna um booleano sobre a ausência do item indicado na referida list.\n"
   ]
  },
  {
   "cell_type": "code",
   "execution_count": 20,
   "id": "cd273cfe",
   "metadata": {},
   "outputs": [
    {
     "name": "stdout",
     "output_type": "stream",
     "text": [
      "['Brasília', 'Salvador', 'Porto Alegre', 'São Paulo', 'Rio de Janeiro']\n"
     ]
    }
   ],
   "source": [
    "#Métodos estão associados a uma variável, enquanto que funções são um pouco mais genéricas.\n",
    "lista_capitais = []\n",
    "\n",
    "#Para adicionar elementos ao final da lista:\n",
    "lista_capitais.append(\"Brasília\")\n",
    "lista_capitais.append(\"Porto Alegre\")\n",
    "lista_capitais.append(\"São Paulo\")\n",
    "lista_capitais.append(\"Rio de Janeiro\")\n",
    "\n",
    "#Para adicionar elementos em um posição específica da lista:\n",
    "lista_capitais.insert(1,\"Salvador\")\n",
    "\n",
    "print(lista_capitais)"
   ]
  },
  {
   "cell_type": "code",
   "execution_count": 21,
   "id": "31bc262e",
   "metadata": {},
   "outputs": [
    {
     "name": "stdout",
     "output_type": "stream",
     "text": [
      "['Brasília', 'Salvador', 'Porto Alegre', 'Rio de Janeiro']\n",
      "['Brasília', 'Salvador', 'Rio de Janeiro'] Porto Alegre\n"
     ]
    }
   ],
   "source": [
    "#Deletar elementos da lista\n",
    "\n",
    "#Para remover o dado a partir de seu valor.\n",
    "lista_capitais.remove(\"São Paulo\")\n",
    "print(lista_capitais)\n",
    "\n",
    "#Para remover o dado a partir da sua posição:\n",
    "removido = lista_capitais.pop(2)\n",
    "print(lista_capitais, removido)"
   ]
  },
  {
   "cell_type": "code",
   "execution_count": 23,
   "id": "2ec74109",
   "metadata": {},
   "outputs": [
    {
     "name": "stdout",
     "output_type": "stream",
     "text": [
      "('Brasil', 'Argentina', 'China', 'Canadá', 'Japão') <class 'tuple'>\n",
      "('Brasil', 'Argentina', 'China', 'Canadá', 'Japão') <class 'tuple'>\n",
      "('RS',) <class 'tuple'>\n"
     ]
    }
   ],
   "source": [
    "#Tuplas\n",
    "    #A principal diferença entre uma lista e uma tupla é a flexibilidade sobre o que podemos fazer com os dados.\n",
    "    #Na tupla, uma vez definido os valores não podem ser alterados. \n",
    "    #As tuplas possuem implementações especiais que a lista não atende.\n",
    "    #As tuplas ocupam menos espaço de armazenamento\n",
    "nomes_paises1 = (\"Brasil\",\"Argentina\",\"China\", \"Canadá\", \"Japão\")\n",
    "nomes_paises2 = \"Brasil\",\"Argentina\",\"China\", \"Canadá\", \"Japão\"\n",
    "#As tuplas aceitam o formato da segunda linha desse trecho.\n",
    "print(nomes_paises1,type(nomes_paises1))\n",
    "print(nomes_paises2,type(nomes_paises2))\n",
    "\n",
    "#Tuplas de 1 elemento\n",
    "nome_estado = \"RS\",\n",
    "print(nome_estado,type(nome_estado))"
   ]
  },
  {
   "cell_type": "code",
   "execution_count": 24,
   "id": "0e73e6b3",
   "metadata": {},
   "outputs": [
    {
     "name": "stdout",
     "output_type": "stream",
     "text": [
      "Brasil China Canadá\n"
     ]
    }
   ],
   "source": [
    "#Função de unpacking\n",
    "b,a,c1,c2,j = nomes_paises\n",
    "print(b,c1,c2)\n",
    "\n",
    "#Imprimir todos os valores da tupla separados\n",
    "print(*nomes_paises)"
   ]
  },
  {
   "cell_type": "code",
   "execution_count": null,
   "id": "617b2e5e",
   "metadata": {},
   "outputs": [],
   "source": []
  }
 ],
 "metadata": {
  "kernelspec": {
   "display_name": "Python 3 (ipykernel)",
   "language": "python",
   "name": "python3"
  },
  "language_info": {
   "codemirror_mode": {
    "name": "ipython",
    "version": 3
   },
   "file_extension": ".py",
   "mimetype": "text/x-python",
   "name": "python",
   "nbconvert_exporter": "python",
   "pygments_lexer": "ipython3",
   "version": "3.9.12"
  }
 },
 "nbformat": 4,
 "nbformat_minor": 5
}
