{
 "cells": [
  {
   "cell_type": "code",
   "execution_count": 1,
   "id": "64052e6b",
   "metadata": {},
   "outputs": [
    {
     "name": "stdout",
     "output_type": "stream",
     "text": [
      "Google\n",
      "O Professor Pietro da Let's Code disse: \"Hoje a pizza é por minha conta\"\n"
     ]
    }
   ],
   "source": [
    "empresa = \"Let's Code\"\n",
    "print(empresa)\n",
    "\n",
    "#Como fazer uma citação usando caractere de escape\n",
    "\n",
    "frase = \"O Professor Pietro da Let's Code disse: \\\"Hoje a pizza é por minha conta\\\"\"\n",
    "print(frase)"
   ]
  },
  {
   "cell_type": "code",
   "execution_count": 3,
   "id": "0a9ea15f",
   "metadata": {},
   "outputs": [
    {
     "name": "stdout",
     "output_type": "stream",
     "text": [
      "L\n",
      "Let\n",
      "'s Code\n"
     ]
    }
   ],
   "source": [
    "#O caracter de escape pode ser utilizado para fazer quebras de linha, tabulações e retornos do texto\n",
    "#As Strings têm comportamento similar a tupla: Enquanto na tupla você acessava um elemento, na String você acessa um caracter\n",
    "print(empresa[0])\n",
    "\n",
    "print(empresa[:3])\n",
    "print(empresa[3:])"
   ]
  },
  {
   "cell_type": "code",
   "execution_count": 4,
   "id": "46177d37",
   "metadata": {},
   "outputs": [
    {
     "name": "stdout",
     "output_type": "stream",
     "text": [
      "['São Paulo', 'Belo Horizonte', 'Rio de Janeiro', 'Brasília']\n"
     ]
    }
   ],
   "source": [
    "\"\"\"\n",
    "    A principal diferença entre Métodos de lista e Métodos de String\n",
    "    é que os métodos de lista, assim que executados, perpetuam aquela alteração na lista.\n",
    "    Já os métodos de String sempre irão retornar as alterações feitas na String e não perpetuar sobre o valor\n",
    "\"\"\"\n",
    "\n",
    "nomes_cidades = \"São Paulo, Belo Horizonte, Rio de Janeiro, Brasília\"\n",
    "\n",
    "#O método split serve para criar vários sub-objetos a partir do objeto original\n",
    "nomes_cidades = nomes_cidades.split(', ')\n",
    "\n",
    "print(nomes_cidades)\n",
    "\n"
   ]
  },
  {
   "cell_type": "code",
   "execution_count": 5,
   "id": "a56f7254",
   "metadata": {},
   "outputs": [
    {
     "name": "stdout",
     "output_type": "stream",
     "text": [
      "MENU PRINCIPAL\n"
     ]
    }
   ],
   "source": [
    "\"\"\"\n",
    "O método strip serve para tirar espaços excessivos do início e do final de uma string.\n",
    "Ele é muito utilizado quando temos que tratar dados que vêm poluídos de uma fonte não-confiável.\n",
    "\"\"\"\n",
    "\n",
    "cabecalho = \"           MENU PRINCIPAL       \"\n",
    "print(cabecalho.strip())"
   ]
  },
  {
   "cell_type": "code",
   "execution_count": 6,
   "id": "89549857",
   "metadata": {},
   "outputs": [
    {
     "name": "stdout",
     "output_type": "stream",
     "text": [
      "Rio De Janeiro\n",
      "Rio de janeiro\n",
      "rio de janeiro\n",
      "RIO DE JANEIRO\n"
     ]
    }
   ],
   "source": [
    "\"\"\"\n",
    "Formatação de Strings e alteração de caixas\n",
    "Title: Cada palavra irá começar com uma letra maiúscula\n",
    "Capitalize: Deixa só a primeira letra da String em maiúsculo\n",
    "Lower: Todos para minúsculo\n",
    "Upper: Todos para maiúsculo\n",
    "\"\"\"\n",
    "nome_cidade = \"rIo DE jaNeirO\"\n",
    "\n",
    "print(nome_cidade.title())\n",
    "print(nome_cidade.capitalize())\n",
    "print(nome_cidade.lower())\n",
    "print(nome_cidade.upper())\n"
   ]
  },
  {
   "cell_type": "code",
   "execution_count": 9,
   "id": "62d9ca61",
   "metadata": {},
   "outputs": [
    {
     "name": "stdout",
     "output_type": "stream",
     "text": [
      "Que cidade do Brasil é conhecida como cidade maravilhosa? Rio Grande\n",
      "Tente novamente, por favor\n",
      "Que cidade do Brasil é conhecida como cidade maravilhosa? Rio da Serra\n",
      "Tente novamente, por favor\n",
      "Que cidade do Brasil é conhecida como cidade maravilhosa? rio de Janeiro\n",
      "Parabéns, você conseguiu\n"
     ]
    }
   ],
   "source": [
    "nome_cidade = input(\"Que cidade do Brasil é conhecida como cidade maravilhosa? \")\n",
    "\n",
    "#Remove os espaços adicionais do início e do fim da entrada\n",
    "nome_cidade = nome_cidade.strip()\n",
    "\n",
    "#Verifica se a entrada passada para minúscula é \"rio de janeiro\". O método lower ajuda a padronizar a entrada do usuário\n",
    "while nome_cidade.lower() != 'rio de janeiro':\n",
    "    print(\"Tente novamente, por favor\")\n",
    "    nome_cidade = input((\"Que cidade do Brasil é conhecida como cidade maravilhosa? \"))\n",
    "print(\"Parabéns, você conseguiu\")"
   ]
  },
  {
   "cell_type": "code",
   "execution_count": 12,
   "id": "215b9a1c",
   "metadata": {},
   "outputs": [
    {
     "name": "stdout",
     "output_type": "stream",
     "text": [
      "True\n"
     ]
    }
   ],
   "source": [
    "mensagem = \"Você viu o que o Pietro disse na sala ontem?\"\n",
    "fui_citado = \"Pietro\" in mensagem\n",
    "print(fui_citado)"
   ]
  },
  {
   "cell_type": "code",
   "execution_count": null,
   "id": "5b38a07c",
   "metadata": {},
   "outputs": [],
   "source": []
  }
 ],
 "metadata": {
  "kernelspec": {
   "display_name": "Python 3 (ipykernel)",
   "language": "python",
   "name": "python3"
  },
  "language_info": {
   "codemirror_mode": {
    "name": "ipython",
    "version": 3
   },
   "file_extension": ".py",
   "mimetype": "text/x-python",
   "name": "python",
   "nbconvert_exporter": "python",
   "pygments_lexer": "ipython3",
   "version": "3.9.12"
  }
 },
 "nbformat": 4,
 "nbformat_minor": 5
}
