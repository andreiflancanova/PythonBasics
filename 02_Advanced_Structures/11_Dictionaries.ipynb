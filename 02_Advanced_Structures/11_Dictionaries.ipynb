{
 "cells": [
  {
   "cell_type": "code",
   "execution_count": 1,
   "id": "3384bf69",
   "metadata": {},
   "outputs": [
    {
     "data": {
      "text/plain": [
       "'\\n    Um dicionário é uma coleção associativa desordenada. Isso pode ser entendido como uma operação de mapeamento.\\n    Dentro de um dicionário teremos pares chave-valor.\\n    Podemos pensar nas chaves como sendo os verbetes do dicionário padrão, e os valores como sendo o significado dos verbetes.\\n'"
      ]
     },
     "execution_count": 1,
     "metadata": {},
     "output_type": "execute_result"
    }
   ],
   "source": [
    "\"\"\"\n",
    "    Um dicionário é uma coleção associativa desordenada. Isso pode ser entendido como uma operação de mapeamento.\n",
    "    Dentro de um dicionário teremos pares chave-valor.\n",
    "    Podemos pensar nas chaves como sendo os verbetes do dicionário padrão, e os valores como sendo o significado dos verbetes.\n",
    "\"\"\""
   ]
  },
  {
   "cell_type": "code",
   "execution_count": 2,
   "id": "3330e8a4",
   "metadata": {},
   "outputs": [
    {
     "name": "stdout",
     "output_type": "stream",
     "text": [
      "{'nome': 'São Paulo', 'estado': 'São Paulo', 'area_km2': 1521, 'populacao_milhoes': 12.18} <class 'dict'>\n"
     ]
    }
   ],
   "source": [
    "#Dicionários são definidos com chaves\n",
    "dados_cidade = {\n",
    "    \"nome\": \"São Paulo\",\n",
    "    \"estado\": \"São Paulo\",\n",
    "    \"area_km2\": 1521,\n",
    "    \"populacao_milhoes\": 12.18\n",
    "}\n",
    "\n",
    "print(dados_cidade,type(dados_cidade))"
   ]
  },
  {
   "cell_type": "code",
   "execution_count": 3,
   "id": "78c6d4f3",
   "metadata": {},
   "outputs": [
    {
     "name": "stdout",
     "output_type": "stream",
     "text": [
      "{'nome': 'São Paulo', 'estado': 'São Paulo', 'area_km2': 1521, 'populacao_milhoes': 12.18, 'pais': 'Brasil'}\n"
     ]
    }
   ],
   "source": [
    "#Para adicionar mais dados ao dicionário é mais simples do que para listas e tuplas.\n",
    "dados_cidade[\"pais\"]= \"Brasil\"\n",
    "print(dados_cidade)"
   ]
  },
  {
   "cell_type": "code",
   "execution_count": 5,
   "id": "c0d146de",
   "metadata": {},
   "outputs": [
    {
     "name": "stdout",
     "output_type": "stream",
     "text": [
      "Santos\n",
      "{'nome': 'Santos', 'estado': 'São Paulo', 'area_km2': 1500, 'populacao_milhoes': 12.18, 'pais': 'Brasil'} {'nome': 'Santos', 'estado': 'São Paulo', 'area_km2': 1500, 'populacao_milhoes': 12.18, 'pais': 'Brasil'}\n",
      "{'nome': 'Santos', 'estado': 'São Paulo', 'area_km2': 1500, 'populacao_milhoes': 12.18, 'pais': 'Brasil'} {'nome': 'Mauá', 'estado': 'São Paulo', 'area_km2': 1500, 'populacao_milhoes': 12.18, 'pais': 'Brasil'}\n"
     ]
    }
   ],
   "source": [
    "print(dados_cidade[\"nome\"])\n",
    "\n",
    "#Para atualizar dados do dicionário\n",
    "dados_cidade[\"area_km2\"]=1500\n",
    "\n",
    "\"\"\"\n",
    "    Assim como nas listas, caso o valor de um dicionário seja atribuído a outra variável e essa variável tenha \n",
    "    o seu valor atualizado, o dicionário original também será atualizado.\n",
    "\"\"\"\n",
    "dados_cidade_2 = dados_cidade\n",
    "dados_cidade_2[\"nome\"] = \"Santos\"\n",
    "print(dados_cidade, dados_cidade_2)\n",
    "\n",
    "\"\"\"\n",
    "    Para que isso não aconteça, é necessário passar o método Copy\n",
    "\"\"\"\n",
    "dados_cidade_3 = dados_cidade.copy()\n",
    "dados_cidade_3[\"nome\"] = \"Mauá\"\n",
    "print(dados_cidade, dados_cidade_3)"
   ]
  },
  {
   "cell_type": "code",
   "execution_count": 6,
   "id": "683ba83b",
   "metadata": {},
   "outputs": [
    {
     "name": "stdout",
     "output_type": "stream",
     "text": [
      "{'nome': 'Santos', 'estado': 'São Paulo', 'area_km2': 1500, 'populacao_milhoes': 15, 'pais': 'Brasil', 'fundacao': '25/01/1554'}\n",
      "São Paulo\n",
      "None\n"
     ]
    }
   ],
   "source": [
    "novos_dados = {\n",
    "    \"populacao_milhoes\":15,\n",
    "    \"fundacao\":\"25/01/1554\"\n",
    "}\n",
    "\n",
    "#O método update atualiza informações e insere novas ao dicionário\n",
    "dados_cidade.update(novos_dados)\n",
    "print(dados_cidade)\n"
   ]
  },
  {
   "cell_type": "code",
   "execution_count": 7,
   "id": "ffcdb16a",
   "metadata": {},
   "outputs": [
    {
     "name": "stdout",
     "output_type": "stream",
     "text": [
      "São Paulo\n",
      "None\n"
     ]
    }
   ],
   "source": [
    "\n",
    "\"\"\"\n",
    "    O método Get tem a função de retornar os valores de uma determinada chave. A diferença entre ele e usar colchetes\n",
    "    é que caso o valor não exista, o método Get retorna \"none\" e não um erro. Um erro é bem mais difícil de tratar do\n",
    "    que um valor nulo.\n",
    "\"\"\"\n",
    "\n",
    "print(dados_cidade.get(\"estado\"))\n",
    "print(dados_cidade.get(\"prefeito\"))"
   ]
  },
  {
   "cell_type": "code",
   "execution_count": 8,
   "id": "6ccc8915",
   "metadata": {},
   "outputs": [
    {
     "name": "stdout",
     "output_type": "stream",
     "text": [
      "dict_keys(['nome', 'estado', 'area_km2', 'populacao_milhoes', 'pais', 'fundacao'])\n",
      "dict_values(['Santos', 'São Paulo', 1500, 15, 'Brasil', '25/01/1554'])\n",
      "dict_items([('nome', 'Santos'), ('estado', 'São Paulo'), ('area_km2', 1500), ('populacao_milhoes', 15), ('pais', 'Brasil'), ('fundacao', '25/01/1554')])\n"
     ]
    }
   ],
   "source": [
    "#Método keys - retorna uma lista de chaves do dicionário\n",
    "print(dados_cidade.keys())\n",
    "\n",
    "#Lista dos valores do dicionário\n",
    "print(dados_cidade.values())\n",
    "\n",
    "#Retorna uma lista de tuplas (chave,valor) de um dicionário\n",
    "print(dados_cidade.items())\n",
    "\n"
   ]
  },
  {
   "cell_type": "code",
   "execution_count": null,
   "id": "5e040afe",
   "metadata": {},
   "outputs": [],
   "source": []
  }
 ],
 "metadata": {
  "kernelspec": {
   "display_name": "Python 3 (ipykernel)",
   "language": "python",
   "name": "python3"
  },
  "language_info": {
   "codemirror_mode": {
    "name": "ipython",
    "version": 3
   },
   "file_extension": ".py",
   "mimetype": "text/x-python",
   "name": "python",
   "nbconvert_exporter": "python",
   "pygments_lexer": "ipython3",
   "version": "3.9.12"
  }
 },
 "nbformat": 4,
 "nbformat_minor": 5
}
