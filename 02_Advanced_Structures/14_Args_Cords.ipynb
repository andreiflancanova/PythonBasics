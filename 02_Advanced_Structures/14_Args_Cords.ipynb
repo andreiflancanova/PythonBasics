{
 "cells": [
  {
   "cell_type": "code",
   "execution_count": 1,
   "id": "a94603ba",
   "metadata": {},
   "outputs": [],
   "source": [
    "def teste_args(*args):\n",
    "    print(args,type(args))\n",
    "\n",
    "teste_args(10,8,9)"
   ]
  },
  {
   "cell_type": "code",
   "execution_count": 12,
   "id": "1345e9da",
   "metadata": {},
   "outputs": [],
   "source": [
    "#Criação d\n",
    "def calcula_media(*args, margem):\n",
    "    soma = sum(args)\n",
    "    media = soma / len(args)\n",
    "    return media + margem"
   ]
  },
  {
   "cell_type": "code",
   "execution_count": 13,
   "id": "7e1ae578",
   "metadata": {},
   "outputs": [
    {
     "data": {
      "text/plain": [
       "8.866666666666665"
      ]
     },
     "execution_count": 13,
     "metadata": {},
     "output_type": "execute_result"
    }
   ],
   "source": [
    "calcula_media(10, 8, 8, margem = 0.2)"
   ]
  },
  {
   "cell_type": "code",
   "execution_count": 14,
   "id": "d0f880b1",
   "metadata": {},
   "outputs": [
    {
     "name": "stdout",
     "output_type": "stream",
     "text": [
      "{'nome': 'Andrei', 'sobrenome': 'Lançanova'} <class 'dict'>\n"
     ]
    }
   ],
   "source": [
    "#key word arguments - kwargs\n",
    "\"\"\"\n",
    "    Bibliotecas que possuem funções e parâmetros que são padrão, principalmente\n",
    "    no caso de visualização de gráficos e geralmente estes parâmetros são comuns\n",
    "    para diferentes funções ou diferentes gráficos que performam da mesma maneira.\n",
    "\"\"\"\n",
    "\n",
    "def print_info(**kwargs):\n",
    "    print(kwargs,type(kwargs))\n",
    "    \n",
    "print_info(nome=\"Andrei\",sobrenome=\"Lançanova\")\n",
    "\n",
    "#Cada um dos parâmetros nomeados irá virar um par chave-valor"
   ]
  },
  {
   "cell_type": "code",
   "execution_count": null,
   "id": "2b527f36",
   "metadata": {},
   "outputs": [],
   "source": []
  }
 ],
 "metadata": {
  "kernelspec": {
   "display_name": "Python 3 (ipykernel)",
   "language": "python",
   "name": "python3"
  },
  "language_info": {
   "codemirror_mode": {
    "name": "ipython",
    "version": 3
   },
   "file_extension": ".py",
   "mimetype": "text/x-python",
   "name": "python",
   "nbconvert_exporter": "python",
   "pygments_lexer": "ipython3",
   "version": "3.9.12"
  }
 },
 "nbformat": 4,
 "nbformat_minor": 5
}
