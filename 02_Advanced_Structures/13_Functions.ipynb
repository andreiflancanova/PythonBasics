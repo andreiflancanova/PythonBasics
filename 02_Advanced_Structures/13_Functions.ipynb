{
 "cells": [
  {
   "cell_type": "code",
   "execution_count": 1,
   "id": "6f9d0de6",
   "metadata": {},
   "outputs": [
    {
     "name": "stdout",
     "output_type": "stream",
     "text": [
      "Hello World\n"
     ]
    }
   ],
   "source": [
    "\"\"\"\n",
    "    Uma função é uma sequência de passos nomeada.\n",
    "\"\"\"\n",
    "\n",
    "#Definindo uma função em Python\n",
    "def hello():\n",
    "    print(\"Hello World\")\n",
    "\n",
    "hello()"
   ]
  },
  {
   "cell_type": "code",
   "execution_count": 3,
   "id": "ca3472da",
   "metadata": {},
   "outputs": [
    {
     "name": "stdout",
     "output_type": "stream",
     "text": [
      "10.0\n",
      "9.333333333333334\n"
     ]
    }
   ],
   "source": [
    "def calcula_media(valor1,valor2,valor3):\n",
    "    soma = valor1+valor2+valor3\n",
    "    media = soma/3\n",
    "    return media\n",
    "\n",
    "resultado1 = calcula_media(10,10,10)\n",
    "print(resultado1)\n",
    "\n",
    "resultado2 = calcula_media(valor1=9,valor2=10,valor3=9)\n",
    "print(resultado2)"
   ]
  },
  {
   "cell_type": "code",
   "execution_count": 5,
   "id": "a02a4d3d",
   "metadata": {},
   "outputs": [
    {
     "name": "stdout",
     "output_type": "stream",
     "text": [
      "Olá, Andrei\n"
     ]
    }
   ],
   "source": [
    "#O valor default do parâmetro end do print é uma quebra de linha\n",
    "print(\"Olá,\",end = \" \")\n",
    "print(\"Andrei\")"
   ]
  },
  {
   "cell_type": "code",
   "execution_count": 6,
   "id": "24c74a1a",
   "metadata": {},
   "outputs": [],
   "source": [
    "def calcula_media_v2(valor1=0,valor2=0,valor3=0):\n",
    "    soma = valor1+valor2+valor3\n",
    "    media = soma/3\n",
    "    return media"
   ]
  },
  {
   "cell_type": "code",
   "execution_count": 11,
   "id": "cc20c8e2",
   "metadata": {},
   "outputs": [
    {
     "name": "stdout",
     "output_type": "stream",
     "text": [
      "0.0\n",
      "0.0\n"
     ]
    }
   ],
   "source": [
    "resultado3 = calcula_media_v2()\n",
    "print(resultado3)\n",
    "\n",
    "resultado4 = calcula_media_v2()\n",
    "print(resultado4)\n"
   ]
  },
  {
   "cell_type": "code",
   "execution_count": null,
   "id": "241ba32b",
   "metadata": {},
   "outputs": [],
   "source": []
  }
 ],
 "metadata": {
  "kernelspec": {
   "display_name": "Python 3 (ipykernel)",
   "language": "python",
   "name": "python3"
  },
  "language_info": {
   "codemirror_mode": {
    "name": "ipython",
    "version": 3
   },
   "file_extension": ".py",
   "mimetype": "text/x-python",
   "name": "python",
   "nbconvert_exporter": "python",
   "pygments_lexer": "ipython3",
   "version": "3.9.12"
  }
 },
 "nbformat": 4,
 "nbformat_minor": 5
}
