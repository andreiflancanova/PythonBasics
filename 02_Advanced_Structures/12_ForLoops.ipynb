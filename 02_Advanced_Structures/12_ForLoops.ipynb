{
 "cells": [
  {
   "cell_type": "code",
   "execution_count": 3,
   "id": "d707d51d",
   "metadata": {},
   "outputs": [
    {
     "name": "stdout",
     "output_type": "stream",
     "text": [
      "São Paulo\n",
      "Londres\n",
      "Tóquio\n",
      "Paris\n"
     ]
    }
   ],
   "source": [
    "\"\"\"\n",
    "    For Loops são utilizados quando:\n",
    "    - Temos uma lista de itens em que temos que realizar uma operação em todos estes itens;\n",
    "    - Sabemos o número de vezes que temos que executar uma tarefa;\n",
    "    - Para iteração de dados\n",
    "\"\"\"\n",
    "\n",
    "#Listas\n",
    "nomes_cidades = [\"São Paulo\",\"Londres\", \"Tóquio\",\"Paris\"]\n",
    "\n",
    "for nome in nomes_cidades:\n",
    "    print(nome)"
   ]
  },
  {
   "cell_type": "code",
   "execution_count": 4,
   "id": "f5c77e46",
   "metadata": {},
   "outputs": [
    {
     "name": "stdout",
     "output_type": "stream",
     "text": [
      "São Paulo\n",
      "Londres\n",
      "Tóquio\n",
      "Paris\n"
     ]
    }
   ],
   "source": [
    "#Tuplas\n",
    "nomes_cidades = (\"São Paulo\",\"Londres\", \"Tóquio\",\"Paris\")\n",
    "\n",
    "for nome in nomes_cidades:\n",
    "    print(nome)"
   ]
  },
  {
   "cell_type": "code",
   "execution_count": 5,
   "id": "92509e17",
   "metadata": {},
   "outputs": [
    {
     "name": "stdout",
     "output_type": "stream",
     "text": [
      "nome:São Paulo\n",
      "estado:São Paulo\n",
      "populacao_milhoes:12.2\n"
     ]
    }
   ],
   "source": [
    "#Dicionários\n",
    "cidade = {\n",
    "    \"nome\": \"São Paulo\",\n",
    "    \"estado\": \"São Paulo\",\n",
    "    \"populacao_milhoes\": 12.2\n",
    "}\n",
    "\n",
    "for chave in cidade:\n",
    "    print (f'{chave}:{cidade[chave]}')"
   ]
  },
  {
   "cell_type": "code",
   "execution_count": 7,
   "id": "263abe21",
   "metadata": {},
   "outputs": [
    {
     "name": "stdout",
     "output_type": "stream",
     "text": [
      "['São Paulo', 'Londres', 'Tóquio', 'Paris']\n"
     ]
    }
   ],
   "source": [
    "#Listas\n",
    "nomes_cidades = [\"São Paulo\",\"Londres\", \"Tóquio\",\"Paris\"]\n",
    "\n",
    "for nome in nomes_cidades:\n",
    "    nome = \"Rio de Janeiro\"\n",
    "print(nomes_cidades)"
   ]
  },
  {
   "cell_type": "code",
   "execution_count": 9,
   "id": "96e4d225",
   "metadata": {},
   "outputs": [
    {
     "name": "stdout",
     "output_type": "stream",
     "text": [
      "['Rio de Janeiro', 'Rio de Janeiro', 'Rio de Janeiro', 'Rio de Janeiro']\n"
     ]
    }
   ],
   "source": [
    "#For com Range\n",
    "for posicao in range(len(nomes_cidades)):\n",
    "    nomes_cidades[posicao] = \"Rio de Janeiro\"\n",
    "print(nomes_cidades)"
   ]
  },
  {
   "cell_type": "code",
   "execution_count": 10,
   "id": "086d4ba9",
   "metadata": {},
   "outputs": [
    {
     "name": "stdout",
     "output_type": "stream",
     "text": [
      "[0, 1, 2, 3, 4, 5, 6, 7, 8, 9]\n",
      "[2, 3, 4, 5, 6, 7, 8, 9]\n",
      "[2, 4, 6, 8]\n"
     ]
    }
   ],
   "source": [
    "#Usos da função Range\n",
    "print(list(range(10)))\n",
    "\n",
    "#Inclui o extremo esquerdo mas não inclui o direito. Fechado a esquerda e aberto a direita\n",
    "print(list(range(2,10)))\n",
    "\n",
    "#Avança com o step definido na terceira entrada\n",
    "print(list(range(2,10,2)))\n"
   ]
  },
  {
   "cell_type": "code",
   "execution_count": null,
   "id": "81f4d10f",
   "metadata": {},
   "outputs": [],
   "source": []
  }
 ],
 "metadata": {
  "kernelspec": {
   "display_name": "Python 3 (ipykernel)",
   "language": "python",
   "name": "python3"
  },
  "language_info": {
   "codemirror_mode": {
    "name": "ipython",
    "version": 3
   },
   "file_extension": ".py",
   "mimetype": "text/x-python",
   "name": "python",
   "nbconvert_exporter": "python",
   "pygments_lexer": "ipython3",
   "version": "3.9.12"
  }
 },
 "nbformat": 4,
 "nbformat_minor": 5
}
