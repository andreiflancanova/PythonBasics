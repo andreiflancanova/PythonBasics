{
 "cells": [
  {
   "cell_type": "code",
   "execution_count": 4,
   "id": "282bcb21",
   "metadata": {},
   "outputs": [
    {
     "name": "stdout",
     "output_type": "stream",
     "text": [
      "Qual é o valor da corrida?16\n",
      "Pague a corrida\n"
     ]
    }
   ],
   "source": [
    "valor_passagem = 4.30\n",
    "valor_corrida = input(\"Qual é o valor da corrida? \")\n",
    "\n",
    "if float(valor_corrida)<=valor_passagem*5:\n",
    "    #O Python usa a indentação delimitar o que pertence ou não a um bloco de código\n",
    "    print(\"Pague a corrida\")\n",
    "if float(valor_corrida)>valor_passagem*5:\n",
    "    print(\"Pegue o ônibus\")"
   ]
  },
  {
   "cell_type": "code",
   "execution_count": null,
   "id": "b17fd560",
   "metadata": {},
   "outputs": [],
   "source": [
    "valor_passagem = 4.30\n",
    "valor_corrida = input(\"Qual é o valor da corrida? \")\n",
    "\n",
    "if float(valor_corrida)<=valor_passagem*5:\n",
    "    #O Python usa a indentação delimitar o que pertence ou não a um bloco de código\n",
    "    print(\"Pague a corrida\")\n",
    "else:\n",
    "    print(\"Pegue o ônibus\")"
   ]
  },
  {
   "cell_type": "code",
   "execution_count": 7,
   "id": "6ca5b5db",
   "metadata": {},
   "outputs": [
    {
     "name": "stdout",
     "output_type": "stream",
     "text": [
      "Qual é o valor da corrida? 35\n",
      "Pegue o ônibus\n"
     ]
    }
   ],
   "source": [
    "valor_passagem = 4.30\n",
    "valor_corrida = input(\"Qual é o valor da corrida? \")\n",
    "\n",
    "if float(valor_corrida)<=valor_passagem*5:\n",
    "    #O Python usa a indentação delimitar o que pertence ou não a um bloco de código\n",
    "    print(\"Pague a corrida\")\n",
    "else:\n",
    "    if float(valor_corrida) <= valor_passagem*6:\n",
    "        print(\"Aguarde um momento. O valor pode abaixar\")\n",
    "    else:\n",
    "        print(\"Pegue o ônibus\")"
   ]
  },
  {
   "cell_type": "code",
   "execution_count": 8,
   "id": "66b5bc51",
   "metadata": {},
   "outputs": [
    {
     "name": "stdout",
     "output_type": "stream",
     "text": [
      "Qual é o valor da corrida? 44\n",
      "Pegue o ônibus\n"
     ]
    }
   ],
   "source": [
    "valor_passagem = 4.30\n",
    "valor_corrida = input(\"Qual é o valor da corrida? \")\n",
    "\n",
    "#O Python usa a indentação delimitar o que pertence ou não a um bloco de código\n",
    "if float(valor_corrida)<=valor_passagem*5:\n",
    "    print(\"Pague a corrida\")\n",
    "elif float(valor_corrida) <= valor_passagem*6:\n",
    "    print(\"Aguarde um momento. O valor pode abaixar\")\n",
    "else:\n",
    "    print(\"Pegue o ônibus\")"
   ]
  },
  {
   "cell_type": "code",
   "execution_count": null,
   "id": "29c24643",
   "metadata": {},
   "outputs": [],
   "source": []
  }
 ],
 "metadata": {
  "kernelspec": {
   "display_name": "Python 3 (ipykernel)",
   "language": "python",
   "name": "python3"
  },
  "language_info": {
   "codemirror_mode": {
    "name": "ipython",
    "version": 3
   },
   "file_extension": ".py",
   "mimetype": "text/x-python",
   "name": "python",
   "nbconvert_exporter": "python",
   "pygments_lexer": "ipython3",
   "version": "3.9.12"
  }
 },
 "nbformat": 4,
 "nbformat_minor": 5
}
