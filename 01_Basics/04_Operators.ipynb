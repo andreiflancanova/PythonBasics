{
 "cells": [
  {
   "cell_type": "code",
   "execution_count": 9,
   "id": "d5dbd0b2",
   "metadata": {},
   "outputs": [
    {
     "name": "stdout",
     "output_type": "stream",
     "text": [
      "53 47 150 16.666666666666668\n",
      "------------------------\n",
      "125000 16 2 0\n"
     ]
    }
   ],
   "source": [
    "#Operadores Aritméticos Básicos\n",
    "a=50\n",
    "b=3\n",
    "\n",
    "print(a+b,a-b,a*b,a/b)\n",
    "#No caso da divisão, a saída sempre será float, mesmo que a e b sejam do tipo inteiro.\n",
    "\n",
    "print(\"------------------------\")\n",
    "\n",
    "print(a**b,a//b,a%b, 3//4)\n",
    "#A divisão com // retorna a parte inteira do resultado da divisão"
   ]
  },
  {
   "cell_type": "code",
   "execution_count": 12,
   "id": "9fe5d86c",
   "metadata": {},
   "outputs": [
    {
     "name": "stdout",
     "output_type": "stream",
     "text": [
      "False True False\n",
      "------------------------\n",
      "True False False True False True\n"
     ]
    }
   ],
   "source": [
    "#Operadores Lógicos\n",
    "tem_cafe = True\n",
    "tem_pao = False\n",
    "\n",
    "print(not tem_cafe, tem_cafe or tem_pao, tem_cafe and tem_pao)\n",
    "\n",
    "print(\"------------------------\")\n",
    "dolar = 5.30\n",
    "real = 1\n",
    "\n",
    "\n",
    "#Operadores Comparativos\n",
    "print(dolar>real, dolar<real, dolar == real, dolar>=real, dolar<=real, dolar != real)"
   ]
  },
  {
   "cell_type": "code",
   "execution_count": null,
   "id": "2fff6477",
   "metadata": {},
   "outputs": [],
   "source": []
  }
 ],
 "metadata": {
  "kernelspec": {
   "display_name": "Python 3 (ipykernel)",
   "language": "python",
   "name": "python3"
  },
  "language_info": {
   "codemirror_mode": {
    "name": "ipython",
    "version": 3
   },
   "file_extension": ".py",
   "mimetype": "text/x-python",
   "name": "python",
   "nbconvert_exporter": "python",
   "pygments_lexer": "ipython3",
   "version": "3.9.12"
  }
 },
 "nbformat": 4,
 "nbformat_minor": 5
}
