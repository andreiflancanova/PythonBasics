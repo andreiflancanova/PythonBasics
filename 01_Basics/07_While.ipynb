{
 "cells": [
  {
   "cell_type": "code",
   "execution_count": 1,
   "id": "b03d5c41",
   "metadata": {},
   "outputs": [
    {
     "name": "stdout",
     "output_type": "stream",
     "text": [
      "1 item limpo\n",
      "2 itens limpos\n",
      "3 itens limpos\n",
      "4 itens limpos\n",
      "5 itens limpos\n",
      "6 itens limpos\n",
      "7 itens limpos\n",
      "8 itens limpos\n",
      "9 itens limpos\n",
      "10 itens limpos\n",
      "Fim da repetição do bloco While\n"
     ]
    }
   ],
   "source": [
    "contador = 0\n",
    "\n",
    "while contador <10:\n",
    "    contador = contador + 1\n",
    "    if contador == 1:\n",
    "        print(contador, \"item limpo\")\n",
    "    else:\n",
    "        print(contador,\"itens limpos\")\n",
    "print(\"Fim da repetição do bloco While\")"
   ]
  },
  {
   "cell_type": "code",
   "execution_count": 2,
   "id": "f20ec014",
   "metadata": {},
   "outputs": [
    {
     "name": "stdout",
     "output_type": "stream",
     "text": [
      "1 item limpo\n",
      "2 itens limpos\n",
      "3 itens limpos\n",
      "4 itens limpos\n",
      "5 itens limpos\n",
      "6 itens limpos\n",
      "7 itens limpos\n",
      "8 itens limpos\n",
      "9 itens limpos\n",
      "10 itens limpos\n",
      "Fim da repetição do bloco While\n"
     ]
    }
   ],
   "source": [
    "contador = 0\n",
    "\n",
    "while True:\n",
    "    if contador < 10:\n",
    "        contador = contador + 1\n",
    "        if contador == 1:\n",
    "            print(contador, \"item limpo\")\n",
    "        else:\n",
    "            print(contador,\"itens limpos\")\n",
    "    else:\n",
    "        break\n",
    "        #O break é relativo ao último loop que ele encontra.\n",
    "print(\"Fim da repetição do bloco While\")"
   ]
  },
  {
   "cell_type": "code",
   "execution_count": 4,
   "id": "487bb969",
   "metadata": {},
   "outputs": [
    {
     "name": "stdout",
     "output_type": "stream",
     "text": [
      "Digite a sua senha: LetsCode\n",
      "Acesso permitido\n"
     ]
    }
   ],
   "source": [
    "#Validação de entrada com While\n",
    "\n",
    "texto = input(\"Digite a sua senha: \")\n",
    "\n",
    "while texto != \"LetsCode\":\n",
    "    texto = input(\"Senha inválida. Tente novamente: \")\n",
    "print(\"Acesso permitido\")"
   ]
  },
  {
   "cell_type": "code",
   "execution_count": 5,
   "id": "aebdecbd",
   "metadata": {},
   "outputs": [
    {
     "name": "stdout",
     "output_type": "stream",
     "text": [
      "2 itens limpos\n",
      "3 itens limpos\n",
      "4 itens limpos\n",
      "5 itens limpos\n",
      "6 itens limpos\n",
      "7 itens limpos\n",
      "8 itens limpos\n",
      "9 itens limpos\n",
      "10 itens limpos\n",
      "Fim da repetição do bloco While\n"
     ]
    }
   ],
   "source": [
    "contador = 0\n",
    "while contador <10:\n",
    "    contador = contador + 1\n",
    "    if contador == 1:\n",
    "        continue\n",
    "        #O continue leva o programa a próxima iteraçõo do While\n",
    "    else:\n",
    "        print(contador,\"itens limpos\")\n",
    "print(\"Fim da repetição do bloco While\")"
   ]
  },
  {
   "cell_type": "code",
   "execution_count": null,
   "id": "0256b501",
   "metadata": {},
   "outputs": [],
   "source": []
  }
 ],
 "metadata": {
  "kernelspec": {
   "display_name": "Python 3 (ipykernel)",
   "language": "python",
   "name": "python3"
  },
  "language_info": {
   "codemirror_mode": {
    "name": "ipython",
    "version": 3
   },
   "file_extension": ".py",
   "mimetype": "text/x-python",
   "name": "python",
   "nbconvert_exporter": "python",
   "pygments_lexer": "ipython3",
   "version": "3.9.12"
  }
 },
 "nbformat": 4,
 "nbformat_minor": 5
}
