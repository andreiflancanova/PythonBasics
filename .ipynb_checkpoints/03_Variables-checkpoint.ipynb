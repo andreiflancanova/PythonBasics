{
 "cells": [
  {
   "cell_type": "code",
   "execution_count": 10,
   "id": "d23f1258",
   "metadata": {},
   "outputs": [
    {
     "name": "stdout",
     "output_type": "stream",
     "text": [
      "5 <class 'int'>\n"
     ]
    }
   ],
   "source": [
    "#Exemplo de variável de tipo inteiro\n",
    "x = 5\n",
    "print(x,type(x))"
   ]
  },
  {
   "cell_type": "code",
   "execution_count": 11,
   "id": "3c7ab4ee",
   "metadata": {},
   "outputs": [
    {
     "name": "stdout",
     "output_type": "stream",
     "text": [
      "19.99 <class 'float'>\n"
     ]
    }
   ],
   "source": [
    "#Exemplo de variável de tipo float\n",
    "preco = 19.99\n",
    "print(preco,type(preco))"
   ]
  },
  {
   "cell_type": "code",
   "execution_count": 12,
   "id": "4cdd5c17",
   "metadata": {},
   "outputs": [
    {
     "name": "stdout",
     "output_type": "stream",
     "text": [
      "São Paulo <class 'str'>\n",
      "Rio Grande <class 'str'>\n"
     ]
    }
   ],
   "source": [
    "#Exemplo de variável de tipo String\n",
    "cidade1 = \"São Paulo\"\n",
    "cidade2 = 'Rio Grande'\n",
    "print(cidade1,type(cidade1))\n",
    "print(cidade2,type(cidade2))"
   ]
  },
  {
   "cell_type": "code",
   "execution_count": 14,
   "id": "d54954c7",
   "metadata": {},
   "outputs": [
    {
     "name": "stdout",
     "output_type": "stream",
     "text": [
      "True <class 'bool'>\n"
     ]
    }
   ],
   "source": [
    "#Exemplo de variável de tipo booleana\n",
    "disponivel = True\n",
    "print(disponivel,type(disponivel))"
   ]
  },
  {
   "cell_type": "code",
   "execution_count": null,
   "id": "4fbf58be",
   "metadata": {},
   "outputs": [],
   "source": []
  }
 ],
 "metadata": {
  "kernelspec": {
   "display_name": "Python 3 (ipykernel)",
   "language": "python",
   "name": "python3"
  },
  "language_info": {
   "codemirror_mode": {
    "name": "ipython",
    "version": 3
   },
   "file_extension": ".py",
   "mimetype": "text/x-python",
   "name": "python",
   "nbconvert_exporter": "python",
   "pygments_lexer": "ipython3",
   "version": "3.9.12"
  }
 },
 "nbformat": 4,
 "nbformat_minor": 5
}
