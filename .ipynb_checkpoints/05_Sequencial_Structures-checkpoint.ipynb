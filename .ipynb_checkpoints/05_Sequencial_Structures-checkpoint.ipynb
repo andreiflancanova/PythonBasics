{
 "cells": [
  {
   "cell_type": "code",
   "execution_count": 6,
   "id": "85d66beb",
   "metadata": {},
   "outputs": [
    {
     "name": "stdout",
     "output_type": "stream",
     "text": [
      "Informe a sua idade em anos: 27\n",
      "27 <class 'str'>\n",
      "27 <class 'int'>\n",
      "549.99 <class 'str'>\n",
      "549.99 <class 'float'>\n",
      "False False True\n"
     ]
    }
   ],
   "source": [
    "#Estruturas sequenciais\n",
    "idade = input(\"Informe a sua idade em anos: \")\n",
    "print(idade, type(idade))\n",
    "\n",
    "#A função input sempre retorna uma string. Se eu quiser que ela retorne outro tipo de variável,preciso realizar um casting.\n",
    "idade = int(idade)\n",
    "print(idade, type(idade))\n",
    "\n",
    "valorString = \"549.99\"\n",
    "\n",
    "valorFloat = float(valorString)\n",
    "\n",
    "print(valorString,type(valorString))\n",
    "\n",
    "print(valorFloat,type(valorFloat))\n",
    "\n",
    "#Para variáveis tipo Boolean, o cast retorna \"False\" se é preenchido com 0 ou com uma String vazia. Do contrário, será \"True\"\n",
    "print(bool(\"\"),bool(0),bool(\"abc\"))\n"
   ]
  },
  {
   "cell_type": "code",
   "execution_count": 8,
   "id": "60ccaf93",
   "metadata": {},
   "outputs": [
    {
     "name": "stdout",
     "output_type": "stream",
     "text": [
      "Digite o valor do seu salário mensal: 2500\n",
      "Digite o valor do seu gasto mensal em média: 1000\n",
      "O montante que você pode ter economizado ao final de um ano é de R$ 18000.0\n"
     ]
    }
   ],
   "source": [
    "salario_mensal = input(\"Digite o valor do seu salário mensal: \")\n",
    "salario_mensal = float(salario_mensal)\n",
    "\n",
    "gasto_mensal = input(\"Digite o valor do seu gasto mensal em média: \")\n",
    "gasto_mensal = float(gasto_mensal)\n",
    "\n",
    "salario_total = salario_mensal * 12\n",
    "gasto_total = gasto_mensal * 12\n",
    "\n",
    "montante_economizado = salario_total - gasto_total\n",
    "print(\"O montante que você pode ter economizado ao final de um ano é de R$\",montante_economizado)"
   ]
  },
  {
   "cell_type": "code",
   "execution_count": null,
   "id": "fc9ba114",
   "metadata": {},
   "outputs": [],
   "source": []
  }
 ],
 "metadata": {
  "kernelspec": {
   "display_name": "Python 3 (ipykernel)",
   "language": "python",
   "name": "python3"
  },
  "language_info": {
   "codemirror_mode": {
    "name": "ipython",
    "version": 3
   },
   "file_extension": ".py",
   "mimetype": "text/x-python",
   "name": "python",
   "nbconvert_exporter": "python",
   "pygments_lexer": "ipython3",
   "version": "3.9.12"
  }
 },
 "nbformat": 4,
 "nbformat_minor": 5
}
