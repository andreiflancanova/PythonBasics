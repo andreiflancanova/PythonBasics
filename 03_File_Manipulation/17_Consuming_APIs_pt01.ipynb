{
 "cells": [
  {
   "cell_type": "code",
   "execution_count": 1,
   "id": "525ae8ad",
   "metadata": {},
   "outputs": [
    {
     "name": "stdout",
     "output_type": "stream",
     "text": [
      "Requirement already satisfied: requests in c:\\users\\usuario\\anaconda3\\lib\\site-packages (2.27.1)\n",
      "Requirement already satisfied: urllib3<1.27,>=1.21.1 in c:\\users\\usuario\\anaconda3\\lib\\site-packages (from requests) (1.26.9)\n",
      "Requirement already satisfied: idna<4,>=2.5 in c:\\users\\usuario\\anaconda3\\lib\\site-packages (from requests) (3.3)\n",
      "Requirement already satisfied: certifi>=2017.4.17 in c:\\users\\usuario\\anaconda3\\lib\\site-packages (from requests) (2021.10.8)\n",
      "Requirement already satisfied: charset-normalizer~=2.0.0 in c:\\users\\usuario\\anaconda3\\lib\\site-packages (from requests) (2.0.4)\n"
     ]
    }
   ],
   "source": [
    "!pip install requests"
   ]
  },
  {
   "cell_type": "code",
   "execution_count": 2,
   "id": "b7c78473",
   "metadata": {},
   "outputs": [
    {
     "name": "stdout",
     "output_type": "stream",
     "text": [
      "200\n",
      "{'result': 'success', 'provider': 'https://www.exchangerate-api.com', 'documentation': 'https://www.exchangerate-api.com/docs/free', 'terms_of_use': 'https://www.exchangerate-api.com/terms', 'time_last_update_unix': 1663718552, 'time_last_update_utc': 'Wed, 21 Sep 2022 00:02:32 +0000', 'time_next_update_unix': 1663805262, 'time_next_update_utc': 'Thu, 22 Sep 2022 00:07:42 +0000', 'time_eol_unix': 0, 'base_code': 'USD', 'rates': {'USD': 1, 'AED': 3.6725, 'AFN': 88.17187, 'ALL': 116.564979, 'AMD': 417.260259, 'ANG': 1.79, 'AOA': 433.483631, 'ARS': 144.654738, 'AUD': 1.492639, 'AWG': 1.79, 'AZN': 1.698627, 'BAM': 1.959986, 'BBD': 2, 'BDT': 102.520536, 'BGN': 1.9598, 'BHD': 0.376, 'BIF': 2030.678978, 'BMD': 1, 'BND': 1.409983, 'BOB': 6.896171, 'BRL': 5.185672, 'BSD': 1, 'BTN': 79.633133, 'BWP': 13.193878, 'BYN': 2.532013, 'BZD': 2, 'CAD': 1.334153, 'CDF': 2004.437169, 'CHF': 0.964444, 'CLP': 923.346612, 'CNY': 7.014276, 'COP': 4416.213592, 'CRC': 632.389586, 'CUP': 24, 'CVE': 110.499316, 'CZK': 24.655796, 'DJF': 177.721, 'DKK': 7.476234, 'DOP': 53.131485, 'DZD': 140.760354, 'EGP': 19.416872, 'ERN': 15, 'ETB': 52.678391, 'EUR': 1.002136, 'FJD': 2.250468, 'FKP': 0.878166, 'FOK': 7.476234, 'GBP': 0.878179, 'GEL': 2.848578, 'GGP': 0.878166, 'GHS': 10.450355, 'GIP': 0.878166, 'GMD': 55.413062, 'GNF': 8596.128878, 'GTQ': 7.781273, 'GYD': 207.832722, 'HKD': 7.852731, 'HNL': 24.621709, 'HRK': 7.550511, 'HTG': 117.337159, 'HUF': 400.662999, 'IDR': 14984.894103, 'ILS': 3.45548, 'IMP': 0.878166, 'INR': 79.634411, 'IQD': 1449.949449, 'IRR': 41893.54141, 'ISK': 140.986805, 'JEP': 0.878166, 'JMD': 151.879333, 'JOD': 0.709, 'JPY': 143.53793, 'KES': 120.867139, 'KGS': 81.759285, 'KHR': 4081.292493, 'KID': 1.492635, 'KMF': 493.013196, 'KRW': 1390.779723, 'KWD': 0.29963, 'KYD': 0.833333, 'KZT': 477.258819, 'LAK': 17999.05168, 'LBP': 1507.5, 'LKR': 357.162108, 'LRD': 154.336539, 'LSL': 17.7015, 'LYD': 4.891086, 'MAD': 10.660076, 'MDL': 19.375893, 'MGA': 4129.732857, 'MKD': 61.552738, 'MMK': 2744.272708, 'MNT': 3219.126452, 'MOP': 8.088291, 'MRU': 37.547891, 'MUR': 43.972883, 'MVR': 15.434633, 'MWK': 1036.229189, 'MXN': 20.002549, 'MYR': 4.540296, 'MZN': 64.521255, 'NAD': 17.7015, 'NGN': 425.462471, 'NIO': 35.876795, 'NOK': 10.315743, 'NPR': 127.413013, 'NZD': 1.694062, 'OMR': 0.384497, 'PAB': 1, 'PEN': 3.88558, 'PGK': 3.529183, 'PHP': 57.557077, 'PKR': 239.647134, 'PLN': 4.724476, 'PYG': 6948.253673, 'QAR': 3.64, 'RON': 4.945094, 'RSD': 117.333574, 'RUB': 60.399611, 'RWF': 1075.198771, 'SAR': 3.75, 'SBD': 8.25768, 'SCR': 12.929794, 'SDG': 565.378716, 'SEK': 10.872534, 'SGD': 1.409993, 'SHP': 0.878166, 'SLE': 14.353169, 'SLL': 14353.169322, 'SOS': 564.731845, 'SRD': 26.835257, 'SSP': 645.366056, 'STN': 24.552063, 'SYP': 2517.841541, 'SZL': 17.7015, 'THB': 37.017861, 'TJS': 10.232381, 'TMT': 3.499839, 'TND': 2.931264, 'TOP': 2.375128, 'TRY': 18.3178, 'TTD': 6.77587, 'TVD': 1.492635, 'TWD': 31.288492, 'TZS': 2339.873762, 'UAH': 37.127486, 'UGX': 3819.132848, 'UYU': 40.711849, 'UZS': 10984.446158, 'VES': 8.0496, 'VND': 23686.813871, 'VUV': 119.766994, 'WST': 2.754162, 'XAF': 657.350928, 'XCD': 2.7, 'XDR': 0.771831, 'XOF': 657.350928, 'XPF': 119.585584, 'YER': 250.82737, 'ZAR': 17.704856, 'ZMW': 15.711255, 'ZWL': 608.626246}}\n"
     ]
    }
   ],
   "source": [
    "import requests\n",
    "url = 'https://api.exchangerate-api.com/v6/latest'\n",
    "\n",
    "req = requests.get(url)\n",
    "\n",
    "print(req.status_code)\n",
    "\n",
    "dados = req.json()\n",
    "\n",
    "print(dados)"
   ]
  },
  {
   "cell_type": "code",
   "execution_count": 3,
   "id": "b1d9c5a6",
   "metadata": {},
   "outputs": [
    {
     "name": "stdout",
     "output_type": "stream",
     "text": [
      "Informe o valor em R$ a ser convertido\n",
      "50\n",
      "R$50.0 em dólar valem US$ 9.64\n"
     ]
    }
   ],
   "source": [
    "valor_reais = float(input('Informe o valor em R$ a ser convertido\\n'))\n",
    "cotacao = dados['rates']['BRL']\n",
    "print(f'R${valor_reais} em dólar valem US$ {(valor_reais/ cotacao):.2f}')"
   ]
  },
  {
   "cell_type": "code",
   "execution_count": null,
   "id": "4235d8ae",
   "metadata": {},
   "outputs": [],
   "source": []
  }
 ],
 "metadata": {
  "kernelspec": {
   "display_name": "Python 3 (ipykernel)",
   "language": "python",
   "name": "python3"
  },
  "language_info": {
   "codemirror_mode": {
    "name": "ipython",
    "version": 3
   },
   "file_extension": ".py",
   "mimetype": "text/x-python",
   "name": "python",
   "nbconvert_exporter": "python",
   "pygments_lexer": "ipython3",
   "version": "3.9.12"
  }
 },
 "nbformat": 4,
 "nbformat_minor": 5
}
