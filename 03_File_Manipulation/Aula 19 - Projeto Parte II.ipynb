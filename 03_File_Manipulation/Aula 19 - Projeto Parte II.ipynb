{
 "cells": [
  {
   "cell_type": "code",
   "execution_count": 2,
   "id": "5451d435",
   "metadata": {},
   "outputs": [],
   "source": [
    "def get_datasets(y, labels):\n",
    "    if type(y[0]) == list:\n",
    "        datasets = []\n",
    "        for i in range(len(y)):\n",
    "            datasets.append({\n",
    "                'label': labels [i],\n",
    "                'data':y[i]\n",
    "            })\n",
    "        return datasets\n",
    "    else:\n",
    "        return [\n",
    "            {\n",
    "                'label': labels[0],\n",
    "                'data' : y\n",
    "            }\n",
    "        ]\n"
   ]
  },
  {
   "cell_type": "code",
   "execution_count": 6,
   "id": "428b3b88",
   "metadata": {},
   "outputs": [],
   "source": [
    "def set_title(title=''):\n",
    "    if title != '':\n",
    "        display = 'true'\n",
    "    else:\n",
    "        display = 'false'\n",
    "    return{\n",
    "        'title': title,\n",
    "        'display': display\n",
    "    }"
   ]
  },
  {
   "cell_type": "code",
   "execution_count": 12,
   "id": "e7a2f55a",
   "metadata": {},
   "outputs": [
    {
     "ename": "SyntaxError",
     "evalue": "invalid syntax. Perhaps you forgot a comma? (944457857.py, line 8)",
     "output_type": "error",
     "traceback": [
      "\u001b[1;36m  Cell \u001b[1;32mIn [12], line 8\u001b[1;36m\u001b[0m\n\u001b[1;33m    'data': {\u001b[0m\n\u001b[1;37m            ^\u001b[0m\n\u001b[1;31mSyntaxError\u001b[0m\u001b[1;31m:\u001b[0m invalid syntax. Perhaps you forgot a comma?\n"
     ]
    }
   ],
   "source": [
    "def creat_chart(x, y, labels, kind='bar', title= ''):\n",
    "    \n",
    "    datasets = get_datasets(y, labels)\n",
    "    options = set_title(title)\n",
    "    \n",
    "    chart = {\n",
    "        'type': kind,\n",
    "         'data': {\n",
    "          'labels':x, \n",
    "          'datasets':datasets\n",
    "        }\n",
    "        'options'= options\n",
    "    }\n",
    "    return chart"
   ]
  },
  {
   "cell_type": "code",
   "execution_count": null,
   "id": "44b9ae3a",
   "metadata": {},
   "outputs": [],
   "source": []
  }
 ],
 "metadata": {
  "kernelspec": {
   "display_name": "Python 3 (ipykernel)",
   "language": "python",
   "name": "python3"
  },
  "language_info": {
   "codemirror_mode": {
    "name": "ipython",
    "version": 3
   },
   "file_extension": ".py",
   "mimetype": "text/x-python",
   "name": "python",
   "nbconvert_exporter": "python",
   "pygments_lexer": "ipython3",
   "version": "3.10.7"
  }
 },
 "nbformat": 4,
 "nbformat_minor": 5
}
