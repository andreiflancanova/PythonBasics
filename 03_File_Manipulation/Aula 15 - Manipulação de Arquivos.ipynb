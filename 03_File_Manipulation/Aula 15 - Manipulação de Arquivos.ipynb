{
 "cells": [
  {
   "cell_type": "code",
   "execution_count": 8,
   "id": "e3ee50c3",
   "metadata": {},
   "outputs": [
    {
     "name": "stdout",
     "output_type": "stream",
     "text": [
      "Dom Casmurro\n",
      "de Machado de Assis\n",
      "CAPÍTULO I\n",
      "DO TÍTULO\n",
      "Uma noite destas, vindo da cidade para o Engenho Novo, encontrei num trem\n",
      "da Central um rapaz aqui do bairro, que eu conheço de vista e de chapéu.\n",
      "Cumprimentou-me, sentou-se ao pé de mim, falou da lua e dos ministros, e acabou\n",
      "recitando-me versos. A viagem era curta, e os versos pode ser que não fossem\n",
      "inteiramente maus. Sucedeu, porém, que, como eu estava cansado, fechei os olhos\n",
      "três ou quatro vezes; tanto bastou para que ele interrompesse a leitura e metesse os\n",
      "versos no bolso.\n",
      "— Continue, disse eu acordando.\n",
      "— Já acabei, murmurou ele.\n",
      "— São muito bonitos.\n",
      "Vi-lhe fazer um gesto para tirá-los outra vez do bolso, mas não passou do\n",
      "gesto; estava amuado. No dia seguinte entrou a dizer de mim nomes feios, e acabou\n",
      "alcunhando-me Dom Casmurro. Os vizinhos, que não gostam dos meus hábitos\n",
      "reclusos e calados, deram curso à alcunha, que afinal pegou. Nem por isso me\n",
      "zanguei. Contei a anedota aos amigos da cidade, e eles, por graça, chamam-me\n",
      "assim, alguns em bilhetes: \"Dom Casmurro, domingo vou jantar com você.\"—\"Vou\n",
      "para Petrópolis, Dom Casmurro; a casa é a mesma da Renania; vê se deixas essa\n",
      "caverna do Engenho Novo, e vai lá passar uns quinze dias comigo.\"—\"Meu caro\n",
      "Dom Casmurro, não cuide que o dispenso do teatro amanhã; venha e dormirá aqui\n",
      "na cidade; dou-lhe camarote, dou-lhe chá, dou-lhe cama; só não lhe dou moça.\"\n",
      "Não consultes dicionários. Casmurro não está aqui no sentido que eles lhe\n",
      "dão, mas no que lhe pôs o vulgo de homem calado e metido consigo. Dom veio por\n",
      "ironia, para atribuir-me fumos de fidalgo. Tudo por estar cochilando! Também não\n",
      "achei melhor título para a minha narração — se não tiver outro daqui até ao fim do\n",
      "livro, vai este mesmo. O meu poeta do trem ficará sabendo que não lhe guardo\n",
      "rancor. E com pequeno esforço, sendo o título seu, poderá cuidar que a obra é sua.\n",
      "Há livros que apenas terão isso dos seus autores; alguns nem tanto.\n",
      "\n"
     ]
    }
   ],
   "source": [
    "arquivo = open('dom_casmurro_cap_1.txt','r', encoding='utf-8')\n",
    "texto = arquivo.read()\n",
    "print(texto)\n",
    "arquivo.close()"
   ]
  },
  {
   "cell_type": "code",
   "execution_count": 13,
   "id": "cb12be86",
   "metadata": {},
   "outputs": [
    {
     "name": "stdout",
     "output_type": "stream",
     "text": [
      "Dom Casmurro\n",
      "de Machado de Assis\n",
      "CAPÍTULO I\n",
      "DO TÍTULO\n",
      "Uma noite destas, vindo da cidade para o Engenho Novo, encontrei num trem\n",
      "da Central um rapaz aqui do bairro, que eu conheço de vista e de chapéu.\n",
      "Cumprimentou-me, sentou-se ao pé de mim, falou da lua e dos ministros, e acabou\n",
      "recitando-me versos. A viagem era curta, e os versos pode ser que não fossem\n",
      "inteiramente maus. Sucedeu, porém, que, como eu estava cansado, fechei os olhos\n",
      "três ou quatro vezes; tanto bastou para que ele interrompesse a leitura e metesse os\n",
      "versos no bolso.\n",
      "— Continue, disse eu acordando.\n",
      "— Já acabei, murmurou ele.\n",
      "— São muito bonitos.\n",
      "Vi-lhe fazer um gesto para tirá-los outra vez do bolso, mas não passou do\n",
      "gesto; estava amuado. No dia seguinte entrou a dizer de mim nomes feios, e acabou\n",
      "alcunhando-me Dom Casmurro. Os vizinhos, que não gostam dos meus hábitos\n",
      "reclusos e calados, deram curso à alcunha, que afinal pegou. Nem por isso me\n",
      "zanguei. Contei a anedota aos amigos da cidade, e eles, por graça, chamam-me\n",
      "assim, alguns em bilhetes: \"Dom Casmurro, domingo vou jantar com você.\"—\"Vou\n",
      "para Petrópolis, Dom Casmurro; a casa é a mesma da Renania; vê se deixas essa\n",
      "caverna do Engenho Novo, e vai lá passar uns quinze dias comigo.\"—\"Meu caro\n",
      "Dom Casmurro, não cuide que o dispenso do teatro amanhã; venha e dormirá aqui\n",
      "na cidade; dou-lhe camarote, dou-lhe chá, dou-lhe cama; só não lhe dou moça.\"\n",
      "Não consultes dicionários. Casmurro não está aqui no sentido que eles lhe\n",
      "dão, mas no que lhe pôs o vulgo de homem calado e metido consigo. Dom veio por\n",
      "ironia, para atribuir-me fumos de fidalgo. Tudo por estar cochilando! Também não\n",
      "achei melhor título para a minha narração — se não tiver outro daqui até ao fim do\n",
      "livro, vai este mesmo. O meu poeta do trem ficará sabendo que não lhe guardo\n",
      "rancor. E com pequeno esforço, sendo o título seu, poderá cuidar que a obra é sua.\n",
      "Há livros que apenas terão isso dos seus autores; alguns nem tanto.\n"
     ]
    }
   ],
   "source": [
    "arquivo = open('dom_casmurro_cap_1.txt','r', encoding='utf-8')\n",
    "linha = arquivo.readline()\n",
    "while linha != '':\n",
    "    print(linha, end='')\n",
    "    linha = arquivo.readline()\n",
    "arquivo.close()"
   ]
  },
  {
   "cell_type": "code",
   "execution_count": null,
   "id": "96f63aad",
   "metadata": {},
   "outputs": [],
   "source": [
    "arquivo = open('dom_casmurro_cap_1.txt','r', encoding='utf-8')\n",
    "linha = arquivo.readline()\n",
    "while linha != '':\n",
    "    print(linha, end='')\n",
    "    linha = arquivo.readline()\n",
    "arquivo.close()"
   ]
  },
  {
   "cell_type": "code",
   "execution_count": 14,
   "id": "3b72a6c7",
   "metadata": {},
   "outputs": [
    {
     "name": "stdout",
     "output_type": "stream",
     "text": [
      "de Machado de Assis\n",
      "CAPÍTULO I\n",
      "DO TÍTULO\n",
      "Uma noite destas, vindo da cidade para o Engenho Novo, encontrei num trem\n",
      "da Central um rapaz aqui do bairro, que eu conheço de vista e de chapéu.\n",
      "Cumprimentou-me, sentou-se ao pé de mim, falou da lua e dos ministros, e acabou\n",
      "recitando-me versos. A viagem era curta, e os versos pode ser que não fossem\n",
      "inteiramente maus. Sucedeu, porém, que, como eu estava cansado, fechei os olhos\n",
      "três ou quatro vezes; tanto bastou para que ele interrompesse a leitura e metesse os\n",
      "versos no bolso.\n",
      "— Continue, disse eu acordando.\n",
      "— Já acabei, murmurou ele.\n",
      "— São muito bonitos.\n",
      "Vi-lhe fazer um gesto para tirá-los outra vez do bolso, mas não passou do\n",
      "gesto; estava amuado. No dia seguinte entrou a dizer de mim nomes feios, e acabou\n",
      "alcunhando-me Dom Casmurro. Os vizinhos, que não gostam dos meus hábitos\n",
      "reclusos e calados, deram curso à alcunha, que afinal pegou. Nem por isso me\n",
      "zanguei. Contei a anedota aos amigos da cidade, e eles, por graça, chamam-me\n",
      "assim, alguns em bilhetes: \"Dom Casmurro, domingo vou jantar com você.\"—\"Vou\n",
      "para Petrópolis, Dom Casmurro; a casa é a mesma da Renania; vê se deixas essa\n",
      "caverna do Engenho Novo, e vai lá passar uns quinze dias comigo.\"—\"Meu caro\n",
      "Dom Casmurro, não cuide que o dispenso do teatro amanhã; venha e dormirá aqui\n",
      "na cidade; dou-lhe camarote, dou-lhe chá, dou-lhe cama; só não lhe dou moça.\"\n",
      "Não consultes dicionários. Casmurro não está aqui no sentido que eles lhe\n",
      "dão, mas no que lhe pôs o vulgo de homem calado e metido consigo. Dom veio por\n",
      "ironia, para atribuir-me fumos de fidalgo. Tudo por estar cochilando! Também não\n",
      "achei melhor título para a minha narração — se não tiver outro daqui até ao fim do\n",
      "livro, vai este mesmo. O meu poeta do trem ficará sabendo que não lhe guardo\n",
      "rancor. E com pequeno esforço, sendo o título seu, poderá cuidar que a obra é sua.\n",
      "Há livros que apenas terão isso dos seus autores; alguns nem tanto.\n"
     ]
    }
   ],
   "source": [
    "arquivo = open('dom_casmurro_cap_1.txt','r', encoding='utf-8')\n",
    "linha = arquivo.readline()\n",
    "for linha in arquivo:\n",
    "    print(linha, end='')\n",
    "arquivo.close()"
   ]
  },
  {
   "cell_type": "code",
   "execution_count": 15,
   "id": "c00f483f",
   "metadata": {},
   "outputs": [
    {
     "name": "stdout",
     "output_type": "stream",
     "text": [
      "Dom Casmurro\n",
      "de Machado de Assis\n",
      "CAPÍTULO I\n",
      "DO TÍTULO\n",
      "Uma noite destas, vindo da cidade para o Engenho Novo, encontrei num trem\n",
      "da Central um rapaz aqui do bairro, que eu conheço de vista e de chapéu.\n",
      "Cumprimentou-me, sentou-se ao pé de mim, falou da lua e dos ministros, e acabou\n",
      "recitando-me versos. A viagem era curta, e os versos pode ser que não fossem\n",
      "inteiramente maus. Sucedeu, porém, que, como eu estava cansado, fechei os olhos\n",
      "três ou quatro vezes; tanto bastou para que ele interrompesse a leitura e metesse os\n",
      "versos no bolso.\n",
      "— Continue, disse eu acordando.\n",
      "— Já acabei, murmurou ele.\n",
      "— São muito bonitos.\n",
      "Vi-lhe fazer um gesto para tirá-los outra vez do bolso, mas não passou do\n",
      "gesto; estava amuado. No dia seguinte entrou a dizer de mim nomes feios, e acabou\n",
      "alcunhando-me Dom Casmurro. Os vizinhos, que não gostam dos meus hábitos\n",
      "reclusos e calados, deram curso à alcunha, que afinal pegou. Nem por isso me\n",
      "zanguei. Contei a anedota aos amigos da cidade, e eles, por graça, chamam-me\n",
      "assim, alguns em bilhetes: \"Dom Casmurro, domingo vou jantar com você.\"—\"Vou\n",
      "para Petrópolis, Dom Casmurro; a casa é a mesma da Renania; vê se deixas essa\n",
      "caverna do Engenho Novo, e vai lá passar uns quinze dias comigo.\"—\"Meu caro\n",
      "Dom Casmurro, não cuide que o dispenso do teatro amanhã; venha e dormirá aqui\n",
      "na cidade; dou-lhe camarote, dou-lhe chá, dou-lhe cama; só não lhe dou moça.\"\n",
      "Não consultes dicionários. Casmurro não está aqui no sentido que eles lhe\n",
      "dão, mas no que lhe pôs o vulgo de homem calado e metido consigo. Dom veio por\n",
      "ironia, para atribuir-me fumos de fidalgo. Tudo por estar cochilando! Também não\n",
      "achei melhor título para a minha narração — se não tiver outro daqui até ao fim do\n",
      "livro, vai este mesmo. O meu poeta do trem ficará sabendo que não lhe guardo\n",
      "rancor. E com pequeno esforço, sendo o título seu, poderá cuidar que a obra é sua.\n",
      "Há livros que apenas terão isso dos seus autores; alguns nem tanto.\n",
      "\n"
     ]
    }
   ],
   "source": [
    "with open ('dom_casmurro_cap_1.txt','r', encoding='utf-8') as arquivo:\n",
    "    texto = arquivo.read()\n",
    "    print(texto)"
   ]
  },
  {
   "cell_type": "code",
   "execution_count": 17,
   "id": "f3b08a89",
   "metadata": {},
   "outputs": [
    {
     "ename": "ValueError",
     "evalue": "I/O operation on closed file.",
     "output_type": "error",
     "traceback": [
      "\u001b[1;31m---------------------------------------------------------------------------\u001b[0m",
      "\u001b[1;31mValueError\u001b[0m                                Traceback (most recent call last)",
      "Cell \u001b[1;32mIn [17], line 1\u001b[0m\n\u001b[1;32m----> 1\u001b[0m texto \u001b[38;5;241m=\u001b[39m \u001b[43marquivo\u001b[49m\u001b[38;5;241;43m.\u001b[39;49m\u001b[43mread\u001b[49m\u001b[43m(\u001b[49m\u001b[43m)\u001b[49m\n",
      "\u001b[1;31mValueError\u001b[0m: I/O operation on closed file."
     ]
    }
   ],
   "source": [
    " texto = arquivo.read()"
   ]
  },
  {
   "cell_type": "code",
   "execution_count": 25,
   "id": "e9db0442",
   "metadata": {},
   "outputs": [],
   "source": [
    "with open('arquivo_teste.txt','w', encoding='utf-8') as arquivo:\n",
    "    arquivo.write('Essa é uma linha que eu escrevi usando Python\\n')\n",
    "    arquivo.write('Essa é a segunda linha que eu escrevi usando Python\\n')"
   ]
  },
  {
   "cell_type": "code",
   "execution_count": 29,
   "id": "2b0542dd",
   "metadata": {},
   "outputs": [
    {
     "name": "stdout",
     "output_type": "stream",
     "text": [
      "Essa é uma linha que eu escrevi usando Python\n",
      "Essa é a segunda linha que eu escrevi usando Python\n",
      "Essa é a terceira linha que eu escrevi usando Python\n",
      "Essa é a terceira linha que eu escrevi usando Python\n"
     ]
    }
   ],
   "source": [
    "with open('arquivo_teste.txt','r', encoding='utf-8') as arquivo:\n",
    "    print(arquivo.read(), end='')"
   ]
  },
  {
   "cell_type": "code",
   "execution_count": 33,
   "id": "8ebdfee1",
   "metadata": {},
   "outputs": [],
   "source": [
    "with open('arquivo_teste.txt','a', encoding='utf-8') as arquivo:\n",
    "    arquivo.write('Essa é a terceira linha que eu escrevi usando Python\\n')"
   ]
  },
  {
   "cell_type": "code",
   "execution_count": null,
   "id": "6a9cf79d",
   "metadata": {},
   "outputs": [],
   "source": []
  },
  {
   "cell_type": "code",
   "execution_count": null,
   "id": "e822f215",
   "metadata": {},
   "outputs": [],
   "source": []
  }
 ],
 "metadata": {
  "kernelspec": {
   "display_name": "Python 3 (ipykernel)",
   "language": "python",
   "name": "python3"
  },
  "language_info": {
   "codemirror_mode": {
    "name": "ipython",
    "version": 3
   },
   "file_extension": ".py",
   "mimetype": "text/x-python",
   "name": "python",
   "nbconvert_exporter": "python",
   "pygments_lexer": "ipython3",
   "version": "3.10.7"
  }
 },
 "nbformat": 4,
 "nbformat_minor": 5
}
